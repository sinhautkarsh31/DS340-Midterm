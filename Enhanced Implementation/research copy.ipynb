{
 "cells": [
  {
   "cell_type": "markdown",
   "id": "19b1fa4b",
   "metadata": {},
   "source": [
    "# Front Matter"
   ]
  },
  {
   "cell_type": "code",
   "execution_count": 44,
   "id": "b25a5967",
   "metadata": {},
   "outputs": [],
   "source": [
    "import pandas as pd\n",
    "import numpy as np\n",
    "import re\n",
    "from sklearn.feature_extraction.text import TfidfVectorizer\n",
    "from sklearn.metrics.pairwise import cosine_similarity\n",
    "from surprise import Dataset, Reader, SVD\n",
    "from surprise.model_selection import train_test_split, cross_validate, GridSearchCV\n",
    "from surprise import accuracy\n",
    "from sklearn.metrics import precision_score, recall_score, f1_score, mean_squared_error\n",
    "import warnings\n",
    "\n",
    "# Suppress warnings for cleaner output\n",
    "warnings.filterwarnings('ignore')\n",
    "\n",
    "from sklearn.model_selection import train_test_split as sk_train_test_split\n",
    "\n"
   ]
  },
  {
   "cell_type": "markdown",
   "id": "9796387f",
   "metadata": {},
   "source": [
    "# 1. Data Preparation\n",
    "## Load and Clean Data"
   ]
  },
  {
   "cell_type": "code",
   "execution_count": 2,
   "id": "e9e74e6f",
   "metadata": {},
   "outputs": [],
   "source": [
    "# Load datasets\n",
    "movies = pd.read_csv(r'C:\\Users\\pedro\\Desktop\\Github\\DS340-Midterm\\Small MovieLens\\movies.csv')\n",
    "ratings = pd.read_csv(r'C:\\Users\\pedro\\Desktop\\Github\\DS340-Midterm\\Small MovieLens\\ratings.csv')\n",
    "tags = pd.read_csv(r'C:\\Users\\pedro\\Desktop\\Github\\DS340-Midterm\\Small MovieLens\\tags.csv')"
   ]
  },
  {
   "cell_type": "code",
   "execution_count": 3,
   "id": "f4aa34b6",
   "metadata": {},
   "outputs": [
    {
     "name": "stdout",
     "output_type": "stream",
     "text": [
      "Movies DataFrame:\n"
     ]
    },
    {
     "data": {
      "text/html": [
       "<div>\n",
       "<style scoped>\n",
       "    .dataframe tbody tr th:only-of-type {\n",
       "        vertical-align: middle;\n",
       "    }\n",
       "\n",
       "    .dataframe tbody tr th {\n",
       "        vertical-align: top;\n",
       "    }\n",
       "\n",
       "    .dataframe thead th {\n",
       "        text-align: right;\n",
       "    }\n",
       "</style>\n",
       "<table border=\"1\" class=\"dataframe\">\n",
       "  <thead>\n",
       "    <tr style=\"text-align: right;\">\n",
       "      <th></th>\n",
       "      <th>movieId</th>\n",
       "      <th>title</th>\n",
       "      <th>genres</th>\n",
       "    </tr>\n",
       "  </thead>\n",
       "  <tbody>\n",
       "    <tr>\n",
       "      <th>0</th>\n",
       "      <td>1</td>\n",
       "      <td>Toy Story (1995)</td>\n",
       "      <td>Adventure|Animation|Children|Comedy|Fantasy</td>\n",
       "    </tr>\n",
       "    <tr>\n",
       "      <th>1</th>\n",
       "      <td>2</td>\n",
       "      <td>Jumanji (1995)</td>\n",
       "      <td>Adventure|Children|Fantasy</td>\n",
       "    </tr>\n",
       "    <tr>\n",
       "      <th>2</th>\n",
       "      <td>3</td>\n",
       "      <td>Grumpier Old Men (1995)</td>\n",
       "      <td>Comedy|Romance</td>\n",
       "    </tr>\n",
       "    <tr>\n",
       "      <th>3</th>\n",
       "      <td>4</td>\n",
       "      <td>Waiting to Exhale (1995)</td>\n",
       "      <td>Comedy|Drama|Romance</td>\n",
       "    </tr>\n",
       "    <tr>\n",
       "      <th>4</th>\n",
       "      <td>5</td>\n",
       "      <td>Father of the Bride Part II (1995)</td>\n",
       "      <td>Comedy</td>\n",
       "    </tr>\n",
       "  </tbody>\n",
       "</table>\n",
       "</div>"
      ],
      "text/plain": [
       "   movieId                               title  \\\n",
       "0        1                    Toy Story (1995)   \n",
       "1        2                      Jumanji (1995)   \n",
       "2        3             Grumpier Old Men (1995)   \n",
       "3        4            Waiting to Exhale (1995)   \n",
       "4        5  Father of the Bride Part II (1995)   \n",
       "\n",
       "                                        genres  \n",
       "0  Adventure|Animation|Children|Comedy|Fantasy  \n",
       "1                   Adventure|Children|Fantasy  \n",
       "2                               Comedy|Romance  \n",
       "3                         Comedy|Drama|Romance  \n",
       "4                                       Comedy  "
      ]
     },
     "metadata": {},
     "output_type": "display_data"
    },
    {
     "name": "stdout",
     "output_type": "stream",
     "text": [
      "Ratings DataFrame:\n"
     ]
    },
    {
     "data": {
      "text/html": [
       "<div>\n",
       "<style scoped>\n",
       "    .dataframe tbody tr th:only-of-type {\n",
       "        vertical-align: middle;\n",
       "    }\n",
       "\n",
       "    .dataframe tbody tr th {\n",
       "        vertical-align: top;\n",
       "    }\n",
       "\n",
       "    .dataframe thead th {\n",
       "        text-align: right;\n",
       "    }\n",
       "</style>\n",
       "<table border=\"1\" class=\"dataframe\">\n",
       "  <thead>\n",
       "    <tr style=\"text-align: right;\">\n",
       "      <th></th>\n",
       "      <th>userId</th>\n",
       "      <th>movieId</th>\n",
       "      <th>rating</th>\n",
       "      <th>timestamp</th>\n",
       "    </tr>\n",
       "  </thead>\n",
       "  <tbody>\n",
       "    <tr>\n",
       "      <th>0</th>\n",
       "      <td>1</td>\n",
       "      <td>1</td>\n",
       "      <td>4.0</td>\n",
       "      <td>964982703</td>\n",
       "    </tr>\n",
       "    <tr>\n",
       "      <th>1</th>\n",
       "      <td>1</td>\n",
       "      <td>3</td>\n",
       "      <td>4.0</td>\n",
       "      <td>964981247</td>\n",
       "    </tr>\n",
       "    <tr>\n",
       "      <th>2</th>\n",
       "      <td>1</td>\n",
       "      <td>6</td>\n",
       "      <td>4.0</td>\n",
       "      <td>964982224</td>\n",
       "    </tr>\n",
       "    <tr>\n",
       "      <th>3</th>\n",
       "      <td>1</td>\n",
       "      <td>47</td>\n",
       "      <td>5.0</td>\n",
       "      <td>964983815</td>\n",
       "    </tr>\n",
       "    <tr>\n",
       "      <th>4</th>\n",
       "      <td>1</td>\n",
       "      <td>50</td>\n",
       "      <td>5.0</td>\n",
       "      <td>964982931</td>\n",
       "    </tr>\n",
       "  </tbody>\n",
       "</table>\n",
       "</div>"
      ],
      "text/plain": [
       "   userId  movieId  rating  timestamp\n",
       "0       1        1     4.0  964982703\n",
       "1       1        3     4.0  964981247\n",
       "2       1        6     4.0  964982224\n",
       "3       1       47     5.0  964983815\n",
       "4       1       50     5.0  964982931"
      ]
     },
     "metadata": {},
     "output_type": "display_data"
    },
    {
     "name": "stdout",
     "output_type": "stream",
     "text": [
      "Tags DataFrame:\n"
     ]
    },
    {
     "data": {
      "text/html": [
       "<div>\n",
       "<style scoped>\n",
       "    .dataframe tbody tr th:only-of-type {\n",
       "        vertical-align: middle;\n",
       "    }\n",
       "\n",
       "    .dataframe tbody tr th {\n",
       "        vertical-align: top;\n",
       "    }\n",
       "\n",
       "    .dataframe thead th {\n",
       "        text-align: right;\n",
       "    }\n",
       "</style>\n",
       "<table border=\"1\" class=\"dataframe\">\n",
       "  <thead>\n",
       "    <tr style=\"text-align: right;\">\n",
       "      <th></th>\n",
       "      <th>userId</th>\n",
       "      <th>movieId</th>\n",
       "      <th>tag</th>\n",
       "      <th>timestamp</th>\n",
       "    </tr>\n",
       "  </thead>\n",
       "  <tbody>\n",
       "    <tr>\n",
       "      <th>0</th>\n",
       "      <td>2</td>\n",
       "      <td>60756</td>\n",
       "      <td>funny</td>\n",
       "      <td>1445714994</td>\n",
       "    </tr>\n",
       "    <tr>\n",
       "      <th>1</th>\n",
       "      <td>2</td>\n",
       "      <td>60756</td>\n",
       "      <td>Highly quotable</td>\n",
       "      <td>1445714996</td>\n",
       "    </tr>\n",
       "    <tr>\n",
       "      <th>2</th>\n",
       "      <td>2</td>\n",
       "      <td>60756</td>\n",
       "      <td>will ferrell</td>\n",
       "      <td>1445714992</td>\n",
       "    </tr>\n",
       "    <tr>\n",
       "      <th>3</th>\n",
       "      <td>2</td>\n",
       "      <td>89774</td>\n",
       "      <td>Boxing story</td>\n",
       "      <td>1445715207</td>\n",
       "    </tr>\n",
       "    <tr>\n",
       "      <th>4</th>\n",
       "      <td>2</td>\n",
       "      <td>89774</td>\n",
       "      <td>MMA</td>\n",
       "      <td>1445715200</td>\n",
       "    </tr>\n",
       "  </tbody>\n",
       "</table>\n",
       "</div>"
      ],
      "text/plain": [
       "   userId  movieId              tag   timestamp\n",
       "0       2    60756            funny  1445714994\n",
       "1       2    60756  Highly quotable  1445714996\n",
       "2       2    60756     will ferrell  1445714992\n",
       "3       2    89774     Boxing story  1445715207\n",
       "4       2    89774              MMA  1445715200"
      ]
     },
     "metadata": {},
     "output_type": "display_data"
    }
   ],
   "source": [
    "# Display first few rows\n",
    "print(\"Movies DataFrame:\")\n",
    "display(movies.head())\n",
    "\n",
    "print(\"Ratings DataFrame:\")\n",
    "display(ratings.head())\n",
    "\n",
    "print(\"Tags DataFrame:\")\n",
    "display(tags.head())"
   ]
  },
  {
   "cell_type": "code",
   "execution_count": 4,
   "id": "ef774e4c",
   "metadata": {},
   "outputs": [],
   "source": [
    "# Select necessary columns\n",
    "movies = movies[['movieId', 'title', 'genres']]\n",
    "ratings = ratings[['userId', 'movieId', 'rating']]\n",
    "tags = tags[['movieId', 'tag']]"
   ]
  },
  {
   "cell_type": "code",
   "execution_count": 5,
   "id": "fbd7ec98",
   "metadata": {},
   "outputs": [],
   "source": [
    "# Merge Movies and Ratings to create CF DataFrame\n",
    "cf = pd.merge(movies, ratings, on='movieId', how='inner')\n",
    "\n",
    "# Merge Movies and Tags to create CBF DataFrame\n",
    "cbf = pd.merge(movies, tags, on='movieId', how='inner')"
   ]
  },
  {
   "cell_type": "code",
   "execution_count": 6,
   "id": "64db4e8a",
   "metadata": {},
   "outputs": [
    {
     "name": "stdout",
     "output_type": "stream",
     "text": [
      "\n",
      "Data types in CF DataFrame:\n",
      "movieId      int64\n",
      "title       object\n",
      "genres      object\n",
      "userId       int64\n",
      "rating     float64\n",
      "dtype: object\n",
      "\n",
      "Data types in CBF DataFrame:\n",
      "movieId     int64\n",
      "title      object\n",
      "genres     object\n",
      "tag        object\n",
      "dtype: object\n"
     ]
    }
   ],
   "source": [
    "# Check data types\n",
    "print(\"\\nData types in CF DataFrame:\")\n",
    "print(cf.dtypes)\n",
    "\n",
    "print(\"\\nData types in CBF DataFrame:\")\n",
    "print(cbf.dtypes)"
   ]
  },
  {
   "cell_type": "code",
   "execution_count": 7,
   "id": "c082fe7c",
   "metadata": {},
   "outputs": [
    {
     "name": "stdout",
     "output_type": "stream",
     "text": [
      "Sample of Movies DataFrame after extracting year and cleaning title:\n"
     ]
    },
    {
     "data": {
      "text/html": [
       "<div>\n",
       "<style scoped>\n",
       "    .dataframe tbody tr th:only-of-type {\n",
       "        vertical-align: middle;\n",
       "    }\n",
       "\n",
       "    .dataframe tbody tr th {\n",
       "        vertical-align: top;\n",
       "    }\n",
       "\n",
       "    .dataframe thead th {\n",
       "        text-align: right;\n",
       "    }\n",
       "</style>\n",
       "<table border=\"1\" class=\"dataframe\">\n",
       "  <thead>\n",
       "    <tr style=\"text-align: right;\">\n",
       "      <th></th>\n",
       "      <th>movieId</th>\n",
       "      <th>title</th>\n",
       "      <th>title_clean</th>\n",
       "      <th>year</th>\n",
       "    </tr>\n",
       "  </thead>\n",
       "  <tbody>\n",
       "    <tr>\n",
       "      <th>0</th>\n",
       "      <td>1</td>\n",
       "      <td>Toy Story (1995)</td>\n",
       "      <td>toy story</td>\n",
       "      <td>1995.0</td>\n",
       "    </tr>\n",
       "    <tr>\n",
       "      <th>1</th>\n",
       "      <td>2</td>\n",
       "      <td>Jumanji (1995)</td>\n",
       "      <td>jumanji</td>\n",
       "      <td>1995.0</td>\n",
       "    </tr>\n",
       "    <tr>\n",
       "      <th>2</th>\n",
       "      <td>3</td>\n",
       "      <td>Grumpier Old Men (1995)</td>\n",
       "      <td>grumpier old men</td>\n",
       "      <td>1995.0</td>\n",
       "    </tr>\n",
       "    <tr>\n",
       "      <th>3</th>\n",
       "      <td>4</td>\n",
       "      <td>Waiting to Exhale (1995)</td>\n",
       "      <td>waiting to exhale</td>\n",
       "      <td>1995.0</td>\n",
       "    </tr>\n",
       "    <tr>\n",
       "      <th>4</th>\n",
       "      <td>5</td>\n",
       "      <td>Father of the Bride Part II (1995)</td>\n",
       "      <td>father of the bride part ii</td>\n",
       "      <td>1995.0</td>\n",
       "    </tr>\n",
       "  </tbody>\n",
       "</table>\n",
       "</div>"
      ],
      "text/plain": [
       "   movieId                               title                  title_clean  \\\n",
       "0        1                    Toy Story (1995)                    toy story   \n",
       "1        2                      Jumanji (1995)                      jumanji   \n",
       "2        3             Grumpier Old Men (1995)             grumpier old men   \n",
       "3        4            Waiting to Exhale (1995)            waiting to exhale   \n",
       "4        5  Father of the Bride Part II (1995)  father of the bride part ii   \n",
       "\n",
       "     year  \n",
       "0  1995.0  \n",
       "1  1995.0  \n",
       "2  1995.0  \n",
       "3  1995.0  \n",
       "4  1995.0  "
      ]
     },
     "metadata": {},
     "output_type": "display_data"
    }
   ],
   "source": [
    "# Function to extract year from title\n",
    "def extract_year(title):\n",
    "    match = re.search(r'\\((\\d{4})\\)', title)\n",
    "    if match:\n",
    "        return int(match.group(1))\n",
    "    else:\n",
    "        return np.nan  # Handle cases where year is not found\n",
    "\n",
    "# Apply the function to create a 'year' column\n",
    "movies['year'] = movies['title'].apply(extract_year)\n",
    "\n",
    "# Clean the 'title' by removing the year and converting to lowercase\n",
    "movies['title_clean'] = movies['title'].apply(lambda x: re.sub(r'\\s*\\(\\d{4}\\)', '', x).lower())\n",
    "\n",
    "# Verify the changes\n",
    "print(\"Sample of Movies DataFrame after extracting year and cleaning title:\")\n",
    "display(movies[['movieId', 'title', 'title_clean', 'year']].head())"
   ]
  },
  {
   "cell_type": "code",
   "execution_count": 8,
   "id": "8dc59474",
   "metadata": {},
   "outputs": [
    {
     "name": "stdout",
     "output_type": "stream",
     "text": [
      "\n",
      "Sample of Grouped Tags DataFrame:\n"
     ]
    },
    {
     "data": {
      "text/html": [
       "<div>\n",
       "<style scoped>\n",
       "    .dataframe tbody tr th:only-of-type {\n",
       "        vertical-align: middle;\n",
       "    }\n",
       "\n",
       "    .dataframe tbody tr th {\n",
       "        vertical-align: top;\n",
       "    }\n",
       "\n",
       "    .dataframe thead th {\n",
       "        text-align: right;\n",
       "    }\n",
       "</style>\n",
       "<table border=\"1\" class=\"dataframe\">\n",
       "  <thead>\n",
       "    <tr style=\"text-align: right;\">\n",
       "      <th></th>\n",
       "      <th>movieId</th>\n",
       "      <th>tag</th>\n",
       "    </tr>\n",
       "  </thead>\n",
       "  <tbody>\n",
       "    <tr>\n",
       "      <th>0</th>\n",
       "      <td>1</td>\n",
       "      <td>pixar pixar fun</td>\n",
       "    </tr>\n",
       "    <tr>\n",
       "      <th>1</th>\n",
       "      <td>2</td>\n",
       "      <td>fantasy magic board game Robin Williams game</td>\n",
       "    </tr>\n",
       "    <tr>\n",
       "      <th>2</th>\n",
       "      <td>3</td>\n",
       "      <td>moldy old</td>\n",
       "    </tr>\n",
       "    <tr>\n",
       "      <th>3</th>\n",
       "      <td>5</td>\n",
       "      <td>pregnancy remake</td>\n",
       "    </tr>\n",
       "    <tr>\n",
       "      <th>4</th>\n",
       "      <td>7</td>\n",
       "      <td>remake</td>\n",
       "    </tr>\n",
       "  </tbody>\n",
       "</table>\n",
       "</div>"
      ],
      "text/plain": [
       "   movieId                                           tag\n",
       "0        1                               pixar pixar fun\n",
       "1        2  fantasy magic board game Robin Williams game\n",
       "2        3                                     moldy old\n",
       "3        5                              pregnancy remake\n",
       "4        7                                        remake"
      ]
     },
     "metadata": {},
     "output_type": "display_data"
    }
   ],
   "source": [
    "# Group tags by 'movieId' and concatenate them into a single string\n",
    "tags_grouped = tags.groupby('movieId')['tag'].apply(lambda x: ' '.join(x)).reset_index()\n",
    "\n",
    "# Verify the grouped tags\n",
    "print(\"\\nSample of Grouped Tags DataFrame:\")\n",
    "display(tags_grouped.head())"
   ]
  },
  {
   "cell_type": "code",
   "execution_count": 9,
   "id": "ce906b27",
   "metadata": {},
   "outputs": [
    {
     "name": "stdout",
     "output_type": "stream",
     "text": [
      "\n",
      "Sample of Content-Based Filtering (CBF) DataFrame after merging tags:\n"
     ]
    },
    {
     "data": {
      "text/html": [
       "<div>\n",
       "<style scoped>\n",
       "    .dataframe tbody tr th:only-of-type {\n",
       "        vertical-align: middle;\n",
       "    }\n",
       "\n",
       "    .dataframe tbody tr th {\n",
       "        vertical-align: top;\n",
       "    }\n",
       "\n",
       "    .dataframe thead th {\n",
       "        text-align: right;\n",
       "    }\n",
       "</style>\n",
       "<table border=\"1\" class=\"dataframe\">\n",
       "  <thead>\n",
       "    <tr style=\"text-align: right;\">\n",
       "      <th></th>\n",
       "      <th>movieId</th>\n",
       "      <th>title</th>\n",
       "      <th>genres</th>\n",
       "      <th>year</th>\n",
       "      <th>title_clean</th>\n",
       "      <th>tag</th>\n",
       "    </tr>\n",
       "  </thead>\n",
       "  <tbody>\n",
       "    <tr>\n",
       "      <th>0</th>\n",
       "      <td>1</td>\n",
       "      <td>Toy Story (1995)</td>\n",
       "      <td>Adventure|Animation|Children|Comedy|Fantasy</td>\n",
       "      <td>1995.0</td>\n",
       "      <td>toy story</td>\n",
       "      <td>pixar pixar fun</td>\n",
       "    </tr>\n",
       "    <tr>\n",
       "      <th>1</th>\n",
       "      <td>2</td>\n",
       "      <td>Jumanji (1995)</td>\n",
       "      <td>Adventure|Children|Fantasy</td>\n",
       "      <td>1995.0</td>\n",
       "      <td>jumanji</td>\n",
       "      <td>fantasy magic board game Robin Williams game</td>\n",
       "    </tr>\n",
       "    <tr>\n",
       "      <th>2</th>\n",
       "      <td>3</td>\n",
       "      <td>Grumpier Old Men (1995)</td>\n",
       "      <td>Comedy|Romance</td>\n",
       "      <td>1995.0</td>\n",
       "      <td>grumpier old men</td>\n",
       "      <td>moldy old</td>\n",
       "    </tr>\n",
       "    <tr>\n",
       "      <th>3</th>\n",
       "      <td>4</td>\n",
       "      <td>Waiting to Exhale (1995)</td>\n",
       "      <td>Comedy|Drama|Romance</td>\n",
       "      <td>1995.0</td>\n",
       "      <td>waiting to exhale</td>\n",
       "      <td></td>\n",
       "    </tr>\n",
       "    <tr>\n",
       "      <th>4</th>\n",
       "      <td>5</td>\n",
       "      <td>Father of the Bride Part II (1995)</td>\n",
       "      <td>Comedy</td>\n",
       "      <td>1995.0</td>\n",
       "      <td>father of the bride part ii</td>\n",
       "      <td>pregnancy remake</td>\n",
       "    </tr>\n",
       "  </tbody>\n",
       "</table>\n",
       "</div>"
      ],
      "text/plain": [
       "   movieId                               title  \\\n",
       "0        1                    Toy Story (1995)   \n",
       "1        2                      Jumanji (1995)   \n",
       "2        3             Grumpier Old Men (1995)   \n",
       "3        4            Waiting to Exhale (1995)   \n",
       "4        5  Father of the Bride Part II (1995)   \n",
       "\n",
       "                                        genres    year  \\\n",
       "0  Adventure|Animation|Children|Comedy|Fantasy  1995.0   \n",
       "1                   Adventure|Children|Fantasy  1995.0   \n",
       "2                               Comedy|Romance  1995.0   \n",
       "3                         Comedy|Drama|Romance  1995.0   \n",
       "4                                       Comedy  1995.0   \n",
       "\n",
       "                   title_clean                                           tag  \n",
       "0                    toy story                               pixar pixar fun  \n",
       "1                      jumanji  fantasy magic board game Robin Williams game  \n",
       "2             grumpier old men                                     moldy old  \n",
       "3            waiting to exhale                                                \n",
       "4  father of the bride part ii                              pregnancy remake  "
      ]
     },
     "metadata": {},
     "output_type": "display_data"
    }
   ],
   "source": [
    "# Merge 'tags_grouped' with 'movies' DataFrame to update 'cbf'\n",
    "cbf = pd.merge(movies, tags_grouped, on='movieId', how='left')\n",
    "\n",
    "# Replace NaN tags with empty strings (for movies without tags)\n",
    "cbf['tag'] = cbf['tag'].fillna('')\n",
    "\n",
    "# Verify the merged DataFrame\n",
    "print(\"\\nSample of Content-Based Filtering (CBF) DataFrame after merging tags:\")\n",
    "display(cbf.head())"
   ]
  },
  {
   "cell_type": "code",
   "execution_count": 10,
   "id": "24b27c5d",
   "metadata": {},
   "outputs": [
    {
     "name": "stdout",
     "output_type": "stream",
     "text": [
      "\n",
      "Sample of CBF DataFrame with 'related' column:\n"
     ]
    },
    {
     "data": {
      "text/html": [
       "<div>\n",
       "<style scoped>\n",
       "    .dataframe tbody tr th:only-of-type {\n",
       "        vertical-align: middle;\n",
       "    }\n",
       "\n",
       "    .dataframe tbody tr th {\n",
       "        vertical-align: top;\n",
       "    }\n",
       "\n",
       "    .dataframe thead th {\n",
       "        text-align: right;\n",
       "    }\n",
       "</style>\n",
       "<table border=\"1\" class=\"dataframe\">\n",
       "  <thead>\n",
       "    <tr style=\"text-align: right;\">\n",
       "      <th></th>\n",
       "      <th>movieId</th>\n",
       "      <th>title</th>\n",
       "      <th>related</th>\n",
       "    </tr>\n",
       "  </thead>\n",
       "  <tbody>\n",
       "    <tr>\n",
       "      <th>0</th>\n",
       "      <td>1</td>\n",
       "      <td>Toy Story (1995)</td>\n",
       "      <td>Adventure Animation Children Comedy Fantasy to...</td>\n",
       "    </tr>\n",
       "    <tr>\n",
       "      <th>1</th>\n",
       "      <td>2</td>\n",
       "      <td>Jumanji (1995)</td>\n",
       "      <td>Adventure Children Fantasy jumanji fantasy mag...</td>\n",
       "    </tr>\n",
       "    <tr>\n",
       "      <th>2</th>\n",
       "      <td>3</td>\n",
       "      <td>Grumpier Old Men (1995)</td>\n",
       "      <td>Comedy Romance grumpier old men moldy old 1995.0</td>\n",
       "    </tr>\n",
       "    <tr>\n",
       "      <th>3</th>\n",
       "      <td>4</td>\n",
       "      <td>Waiting to Exhale (1995)</td>\n",
       "      <td>Comedy Drama Romance waiting to exhale  1995.0</td>\n",
       "    </tr>\n",
       "    <tr>\n",
       "      <th>4</th>\n",
       "      <td>5</td>\n",
       "      <td>Father of the Bride Part II (1995)</td>\n",
       "      <td>Comedy father of the bride part ii pregnancy r...</td>\n",
       "    </tr>\n",
       "  </tbody>\n",
       "</table>\n",
       "</div>"
      ],
      "text/plain": [
       "   movieId                               title  \\\n",
       "0        1                    Toy Story (1995)   \n",
       "1        2                      Jumanji (1995)   \n",
       "2        3             Grumpier Old Men (1995)   \n",
       "3        4            Waiting to Exhale (1995)   \n",
       "4        5  Father of the Bride Part II (1995)   \n",
       "\n",
       "                                             related  \n",
       "0  Adventure Animation Children Comedy Fantasy to...  \n",
       "1  Adventure Children Fantasy jumanji fantasy mag...  \n",
       "2   Comedy Romance grumpier old men moldy old 1995.0  \n",
       "3     Comedy Drama Romance waiting to exhale  1995.0  \n",
       "4  Comedy father of the bride part ii pregnancy r...  "
      ]
     },
     "metadata": {},
     "output_type": "display_data"
    }
   ],
   "source": [
    "# Create 'year_str' column for concatenation\n",
    "cbf['year_str'] = cbf['year'].astype(str)\n",
    "\n",
    "# Combine genres, title_clean, tags, and year into the 'related' column\n",
    "cbf['related'] = cbf['genres'].str.replace('|', ' ') + ' ' + cbf['title_clean'] + ' ' + cbf['tag'] + ' ' + cbf['year_str']\n",
    "\n",
    "# Verify the 'related' column\n",
    "print(\"\\nSample of CBF DataFrame with 'related' column:\")\n",
    "display(cbf[['movieId', 'title', 'related']].head())"
   ]
  },
  {
   "cell_type": "code",
   "execution_count": 11,
   "id": "35368e9b",
   "metadata": {},
   "outputs": [
    {
     "name": "stdout",
     "output_type": "stream",
     "text": [
      "\n",
      "Sample of CBF DataFrame after preprocessing 'related' column:\n"
     ]
    },
    {
     "data": {
      "text/html": [
       "<div>\n",
       "<style scoped>\n",
       "    .dataframe tbody tr th:only-of-type {\n",
       "        vertical-align: middle;\n",
       "    }\n",
       "\n",
       "    .dataframe tbody tr th {\n",
       "        vertical-align: top;\n",
       "    }\n",
       "\n",
       "    .dataframe thead th {\n",
       "        text-align: right;\n",
       "    }\n",
       "</style>\n",
       "<table border=\"1\" class=\"dataframe\">\n",
       "  <thead>\n",
       "    <tr style=\"text-align: right;\">\n",
       "      <th></th>\n",
       "      <th>movieId</th>\n",
       "      <th>title</th>\n",
       "      <th>related</th>\n",
       "    </tr>\n",
       "  </thead>\n",
       "  <tbody>\n",
       "    <tr>\n",
       "      <th>0</th>\n",
       "      <td>1</td>\n",
       "      <td>Toy Story (1995)</td>\n",
       "      <td>adventure animation children comedy fantasy to...</td>\n",
       "    </tr>\n",
       "    <tr>\n",
       "      <th>1</th>\n",
       "      <td>2</td>\n",
       "      <td>Jumanji (1995)</td>\n",
       "      <td>adventure children fantasy jumanji fantasy mag...</td>\n",
       "    </tr>\n",
       "    <tr>\n",
       "      <th>2</th>\n",
       "      <td>3</td>\n",
       "      <td>Grumpier Old Men (1995)</td>\n",
       "      <td>comedy romance grumpier old men moldy old</td>\n",
       "    </tr>\n",
       "    <tr>\n",
       "      <th>3</th>\n",
       "      <td>4</td>\n",
       "      <td>Waiting to Exhale (1995)</td>\n",
       "      <td>comedy drama romance waiting to exhale</td>\n",
       "    </tr>\n",
       "    <tr>\n",
       "      <th>4</th>\n",
       "      <td>5</td>\n",
       "      <td>Father of the Bride Part II (1995)</td>\n",
       "      <td>comedy father of the bride part ii pregnancy r...</td>\n",
       "    </tr>\n",
       "  </tbody>\n",
       "</table>\n",
       "</div>"
      ],
      "text/plain": [
       "   movieId                               title  \\\n",
       "0        1                    Toy Story (1995)   \n",
       "1        2                      Jumanji (1995)   \n",
       "2        3             Grumpier Old Men (1995)   \n",
       "3        4            Waiting to Exhale (1995)   \n",
       "4        5  Father of the Bride Part II (1995)   \n",
       "\n",
       "                                             related  \n",
       "0  adventure animation children comedy fantasy to...  \n",
       "1  adventure children fantasy jumanji fantasy mag...  \n",
       "2          comedy romance grumpier old men moldy old  \n",
       "3             comedy drama romance waiting to exhale  \n",
       "4  comedy father of the bride part ii pregnancy r...  "
      ]
     },
     "metadata": {},
     "output_type": "display_data"
    }
   ],
   "source": [
    "# Preprocess the 'related' column\n",
    "cbf['related'] = cbf['related'].str.lower()  # Ensure lowercase\n",
    "cbf['related'] = cbf['related'].str.replace(r'\\d+', '', regex=True)  # Remove numbers\n",
    "cbf['related'] = cbf['related'].str.replace(r'[^a-z\\s]', '', regex=True)  # Remove special characters\n",
    "cbf['related'] = cbf['related'].str.strip()  # Remove extra spaces\n",
    "\n",
    "# Verify the preprocessing\n",
    "print(\"\\nSample of CBF DataFrame after preprocessing 'related' column:\")\n",
    "display(cbf[['movieId', 'title', 'related']].head())"
   ]
  },
  {
   "cell_type": "code",
   "execution_count": 12,
   "id": "44b4ef1d",
   "metadata": {},
   "outputs": [
    {
     "name": "stdout",
     "output_type": "stream",
     "text": [
      "\n",
      "Number of NaN values in 'related' column: 0\n"
     ]
    }
   ],
   "source": [
    "# Check for NaN values in 'related' column\n",
    "nan_related = cbf['related'].isna().sum()\n",
    "print(f\"\\nNumber of NaN values in 'related' column: {nan_related}\")"
   ]
  },
  {
   "cell_type": "code",
   "execution_count": 13,
   "id": "731b0f32",
   "metadata": {
    "lines_to_next_cell": 1
   },
   "outputs": [
    {
     "name": "stdout",
     "output_type": "stream",
     "text": [
      "\n",
      "Cleaned CF and CBF DataFrames are ready.\n"
     ]
    }
   ],
   "source": [
    "# Save CF and CBF DataFrames to CSV (optional)\n",
    "# Uncomment if you need to save for later use\n",
    "cf.to_csv(r'C:\\Users\\pedro\\Desktop\\Github\\DS340-Midterm\\Small MovieLens\\cf.csv', index=False)\n",
    "cbf.to_csv(r'C:\\Users\\pedro\\Desktop\\Github\\DS340-Midterm\\Small MovieLens\\cbf.csv', index=False)\n",
    "\n",
    "print(\"\\nCleaned CF and CBF DataFrames are ready.\")"
   ]
  },
  {
   "cell_type": "markdown",
   "id": "f52fb575",
   "metadata": {},
   "source": [
    "# Performing Splitting"
   ]
  },
  {
   "cell_type": "code",
   "execution_count": 48,
   "id": "ad82a82c",
   "metadata": {},
   "outputs": [],
   "source": [
    "# Correct usage of train_test_split with scikit-learn for a DataFrame\n",
    "cbf_remaining, cbf_validation = sk_train_test_split(\n",
    "    cbf, test_size=0.1, random_state=42\n",
    ")\n",
    "\n",
    "# Split the remaining data into training and testing sets (80/20 split)\n",
    "cbf_train, cbf_test = sk_train_test_split(\n",
    "    cbf, test_size=0.2, random_state=42\n",
    ")\n",
    "\n",
    "\n",
    "cf_reduced = cf[['userId', 'movieId', 'rating']]\n",
    "\n",
    "# Define the format for the dataset using Reader\n",
    "reader = Reader(rating_scale=(0.5, 5))  # Adjust the rating scale if necessary\n",
    "\n",
    "# Load the data into Surprise format\n",
    "data = Dataset.load_from_df(cf_reduced, reader)\n",
    "\n",
    "cf_remaining, cf_validation = train_test_split(data, test_size=0.1)\n",
    "\n",
    "# Train-test split (80% train, 20% test)\n",
    "cf_train, cf_test = train_test_split(data, test_size=0.2)"
   ]
  },
  {
   "cell_type": "markdown",
   "id": "c31ed609",
   "metadata": {},
   "source": [
    "# Content-Based"
   ]
  },
  {
   "cell_type": "markdown",
   "id": "efa61f4c",
   "metadata": {},
   "source": [
    "## Creating User Profiles"
   ]
  },
  {
   "cell_type": "code",
   "execution_count": 49,
   "id": "9ee8ac91",
   "metadata": {},
   "outputs": [
    {
     "ename": "AttributeError",
     "evalue": "'Trainset' object has no attribute 'copy'",
     "output_type": "error",
     "traceback": [
      "\u001b[1;31m---------------------------------------------------------------------------\u001b[0m",
      "\u001b[1;31mAttributeError\u001b[0m                            Traceback (most recent call last)",
      "Cell \u001b[1;32mIn[49], line 3\u001b[0m\n\u001b[0;32m      1\u001b[0m \u001b[38;5;66;03m# Ensure 'cf_train' is a DataFrame\u001b[39;00m\n\u001b[0;32m      2\u001b[0m \u001b[38;5;66;03m# If 'cf_train' is a Surprise trainset, convert it to a DataFrame\u001b[39;00m\n\u001b[1;32m----> 3\u001b[0m cf_train_df \u001b[38;5;241m=\u001b[39m \u001b[43mcf_train\u001b[49m\u001b[38;5;241;43m.\u001b[39;49m\u001b[43mcopy\u001b[49m()\n\u001b[0;32m      5\u001b[0m \u001b[38;5;66;03m# Merge cf_train with cbf_train to get content features\u001b[39;00m\n\u001b[0;32m      6\u001b[0m user_ratings \u001b[38;5;241m=\u001b[39m pd\u001b[38;5;241m.\u001b[39mmerge(cf_train_df, cbf_train[[\u001b[38;5;124m'\u001b[39m\u001b[38;5;124mmovieId\u001b[39m\u001b[38;5;124m'\u001b[39m, \u001b[38;5;124m'\u001b[39m\u001b[38;5;124mrelated\u001b[39m\u001b[38;5;124m'\u001b[39m]], on\u001b[38;5;241m=\u001b[39m\u001b[38;5;124m'\u001b[39m\u001b[38;5;124mmovieId\u001b[39m\u001b[38;5;124m'\u001b[39m, how\u001b[38;5;241m=\u001b[39m\u001b[38;5;124m'\u001b[39m\u001b[38;5;124mleft\u001b[39m\u001b[38;5;124m'\u001b[39m)\n",
      "\u001b[1;31mAttributeError\u001b[0m: 'Trainset' object has no attribute 'copy'"
     ]
    }
   ],
   "source": [
    "# Ensure 'cf_train' is a DataFrame\n",
    "# If 'cf_train' is a Surprise trainset, convert it to a DataFrame\n",
    "cf_train_df = cf_train.copy()\n",
    "\n",
    "# Merge cf_train with cbf_train to get content features\n",
    "user_ratings = pd.merge(cf_train_df, cbf_train[['movieId', 'related']], on='movieId', how='left')\n"
   ]
  },
  {
   "cell_type": "markdown",
   "id": "7974f2c6",
   "metadata": {},
   "source": [
    "## Initiating TF-IDF"
   ]
  },
  {
   "cell_type": "code",
   "execution_count": 46,
   "id": "a5d48efd",
   "metadata": {},
   "outputs": [
    {
     "name": "stdout",
     "output_type": "stream",
     "text": [
      "\n",
      "TF-IDF Matrix Shape: (7793, 8624)\n"
     ]
    }
   ],
   "source": [
    "# Initialize TF-IDF Vectorizer with English stop words\n",
    "tfidf = TfidfVectorizer(stop_words='english')\n",
    "\n",
    "# Fit and transform the 'related' column\n",
    "tfidf_matrix = tfidf.fit_transform(cbf_train['related'])\n",
    "\n",
    "# Verify the shape of the TF-IDF matrix\n",
    "print(f\"\\nTF-IDF Matrix Shape: {tfidf_matrix.shape}\")"
   ]
  },
  {
   "cell_type": "markdown",
   "id": "5bc43573",
   "metadata": {},
   "source": [
    "## Cosine Similarity"
   ]
  },
  {
   "cell_type": "code",
   "execution_count": 15,
   "id": "3c6ca74c",
   "metadata": {},
   "outputs": [
    {
     "name": "stdout",
     "output_type": "stream",
     "text": [
      "(9742, 9742)\n"
     ]
    }
   ],
   "source": [
    "# Compute the cosine similarity matrix\n",
    "cosine_sim = cosine_similarity(tfidf_matrix, tfidf_matrix)\n",
    "\n",
    "# Display the similarity matrix shape (should be a square matrix: number of movies x number of movies)\n",
    "print(cosine_sim.shape)"
   ]
  },
  {
   "cell_type": "code",
   "execution_count": 16,
   "id": "96336bf5",
   "metadata": {},
   "outputs": [
    {
     "name": "stdout",
     "output_type": "stream",
     "text": [
      "4805                                      Monster (2003)\n",
      "1615           Henry: Portrait of a Serial Killer (1986)\n",
      "296                                    Virtuosity (1995)\n",
      "8672                                 Killer Movie (2008)\n",
      "3128                                    Manhunter (1986)\n",
      "43                           Seven (a.k.a. Se7en) (1995)\n",
      "4813    Aileen: Life and Death of a Serial Killer (2003)\n",
      "465                                    Serial Mom (1994)\n",
      "7940                                   Killer Joe (2011)\n",
      "3461                                  Others, The (2001)\n",
      "Name: title, dtype: object\n"
     ]
    }
   ],
   "source": [
    "# Create a function that takes in a movie title and gives recommendations\n",
    "def get_recommendations(title, cosine_sim=cosine_sim):\n",
    "    # Convert input title to lowercase\n",
    "    title_cleaned = title.lower()\n",
    "\n",
    "    # Find the index of the movie in the 'title_clean' column\n",
    "    idx = cbf[cbf['title_clean'] == title_cleaned].index[0]\n",
    "\n",
    "    # Get the pairwise similarity scores for all movies with that movie\n",
    "    sim_scores = list(enumerate(cosine_sim[idx]))\n",
    "\n",
    "    # Sort the movies based on the similarity scores\n",
    "    sim_scores = sorted(sim_scores, key=lambda x: x[1], reverse=True)\n",
    "\n",
    "    # Get the indices of the 10 most similar movies\n",
    "    sim_scores = sim_scores[1:11]  # Skip the first movie (itself)\n",
    "\n",
    "    # Get the movie indices\n",
    "    movie_indices = [i[0] for i in sim_scores]\n",
    "\n",
    "    # Return the titles of the top 10 most similar movies\n",
    "    return cbf['title'].iloc[movie_indices]\n",
    "\n",
    "# Example: Get recommendations for a movie\n",
    "\n",
    "recommendations = get_recommendations('copycat')\n",
    "print(recommendations)\n"
   ]
  },
  {
   "cell_type": "markdown",
   "id": "d6bb8551",
   "metadata": {},
   "source": [
    "# Collaborative"
   ]
  },
  {
   "cell_type": "code",
   "execution_count": 17,
   "id": "a9e5cc01",
   "metadata": {},
   "outputs": [
    {
     "name": "stdout",
     "output_type": "stream",
     "text": [
      "RMSE: 0.8680\n"
     ]
    }
   ],
   "source": [
    "# Prepare the dataset (from your CF data)\n",
    "# We'll use only the necessary columns\n",
    "cf_reduced = cf[['userId', 'movieId', 'rating']]\n",
    "\n",
    "# Define the format for the dataset using Reader\n",
    "reader = Reader(rating_scale=(0.5, 5))  # Adjust the rating scale if necessary\n",
    "\n",
    "# Load the data into Surprise format\n",
    "data = Dataset.load_from_df(cf_reduced, reader)\n",
    "\n",
    "# Train-test split (80% train, 20% test)\n",
    "trainset, testset = train_test_split(data, test_size=0.2)\n",
    "\n",
    "# Initialize the SVD model for matrix factorization\n",
    "svd = SVD()\n",
    "\n",
    "# Train the model on the training set\n",
    "svd.fit(trainset)\n",
    "\n",
    "# Test the model on the test set and evaluate performance (RMSE)\n",
    "predictions = svd.test(testset)\n",
    "rmse = accuracy.rmse(predictions)"
   ]
  },
  {
   "cell_type": "code",
   "execution_count": 18,
   "id": "54a34e54",
   "metadata": {},
   "outputs": [
    {
     "name": "stdout",
     "output_type": "stream",
     "text": [
      "[('Postman, The (Postino, Il) (1994)', 5), ('Dr. Strangelove or: How I Learned to Stop Worrying and Love the Bomb (1964)', 5), ('Rear Window (1954)', 5), ('It Happened One Night (1934)', 5), ('North by Northwest (1959)', 5), ('Casablanca (1942)', 5), ('Bridge on the River Kwai, The (1957)', 5), ('Evil Dead II (Dead by Dawn) (1987)', 5), ('Patton (1970)', 5), (\"Guess Who's Coming to Dinner (1967)\", 5)]\n"
     ]
    }
   ],
   "source": [
    "# Making movie recommendations for a specific user\n",
    "def recommend_movies(user_id, model=svd, n_recommendations=10):\n",
    "    # Get a list of all movie IDs\n",
    "    all_movie_ids = cf['movieId'].unique()\n",
    "\n",
    "    # Predict ratings for all movies the user hasn't rated yet\n",
    "    user_rated_movies = cf[cf['userId'] == user_id]['movieId'].tolist()\n",
    "    unrated_movies = [movie_id for movie_id in all_movie_ids if movie_id not in user_rated_movies]\n",
    "\n",
    "    # Predict ratings for unrated movies\n",
    "    predictions = [model.predict(user_id, movie_id) for movie_id in unrated_movies]\n",
    "\n",
    "    # Sort predictions by estimated rating in descending order\n",
    "    predictions.sort(key=lambda x: x.est, reverse=True)\n",
    "\n",
    "    # Get top N recommendations\n",
    "    top_n = predictions[:n_recommendations]\n",
    "\n",
    "    # Return movie IDs and estimated ratings\n",
    "    recommended_movies = [(cf[cf['movieId'] == pred.iid]['title'].values[0], pred.est) for pred in top_n]\n",
    "\n",
    "    return recommended_movies\n",
    "\n",
    "# Example: Get recommendations for user 1\n",
    "recommended_movies = recommend_movies(user_id=1)\n",
    "print(recommended_movies)"
   ]
  },
  {
   "cell_type": "code",
   "execution_count": 19,
   "id": "e739aa29",
   "metadata": {},
   "outputs": [
    {
     "name": "stdout",
     "output_type": "stream",
     "text": [
      "Evaluating RMSE, MAE of algorithm SVD on 5 split(s).\n",
      "\n",
      "                  Fold 1  Fold 2  Fold 3  Fold 4  Fold 5  Mean    Std     \n",
      "RMSE (testset)    0.8742  0.8723  0.8711  0.8752  0.8748  0.8735  0.0016  \n",
      "MAE (testset)     0.6698  0.6704  0.6715  0.6723  0.6720  0.6712  0.0010  \n",
      "Fit time          1.68    1.57    2.30    1.89    1.78    1.85    0.25    \n",
      "Test time         0.12    0.20    0.33    0.17    0.26    0.22    0.07    \n"
     ]
    }
   ],
   "source": [
    "cross_val_results = cross_validate(SVD(), data, measures=['RMSE', 'MAE'], cv=5, verbose=True)\n"
   ]
  },
  {
   "cell_type": "code",
   "execution_count": 20,
   "id": "8b21f97f",
   "metadata": {},
   "outputs": [
    {
     "name": "stdout",
     "output_type": "stream",
     "text": [
      "\n",
      "Cross-Validation Results:\n",
      "Average RMSE: 0.8735\n",
      "Average MAE: 0.6712\n"
     ]
    }
   ],
   "source": [
    "# Display the average RMSE and MAE\n",
    "print(\"\\nCross-Validation Results:\")\n",
    "print(f\"Average RMSE: {cross_val_results['test_rmse'].mean():.4f}\")\n",
    "print(f\"Average MAE: {cross_val_results['test_mae'].mean():.4f}\")"
   ]
  },
  {
   "cell_type": "code",
   "execution_count": 21,
   "id": "799c994f",
   "metadata": {},
   "outputs": [
    {
     "name": "stdout",
     "output_type": "stream",
     "text": [
      "\n",
      "Starting Grid Search for hyperparameter tuning...\n"
     ]
    },
    {
     "name": "stderr",
     "output_type": "stream",
     "text": [
      "[Parallel(n_jobs=1)]: Done  49 tasks      | elapsed:  1.2min\n"
     ]
    },
    {
     "name": "stdout",
     "output_type": "stream",
     "text": [
      "Grid Search completed.\n",
      "\n",
      "Best RMSE Score: 0.8708\n",
      "Best parameters:\n",
      "{'n_factors': 100, 'n_epochs': 30, 'lr_all': 0.005, 'reg_all': 0.05}\n"
     ]
    }
   ],
   "source": [
    "# Define a parameter grid for SVD\n",
    "param_grid = {\n",
    "    'n_factors': [50, 100, 150],  # Number of latent factors\n",
    "    'n_epochs': [20, 30],         # Number of training epochs\n",
    "    'lr_all': [0.002, 0.005],     # Learning rate for all parameters\n",
    "    'reg_all': [0.02, 0.05]       # Regularization term for all parameters\n",
    "}\n",
    "\n",
    "# Initialize GridSearchCV with SVD algorithm\n",
    "gs = GridSearchCV(SVD, param_grid, measures=['rmse', 'mae'], cv=3, joblib_verbose=1)\n",
    "\n",
    "# Perform grid search\n",
    "print(\"\\nStarting Grid Search for hyperparameter tuning...\")\n",
    "gs.fit(data)\n",
    "print(\"Grid Search completed.\")\n",
    "\n",
    "# Extract the best RMSE score\n",
    "print(f\"\\nBest RMSE Score: {gs.best_score['rmse']:.4f}\")\n",
    "\n",
    "# Extract the best parameters\n",
    "print(\"Best parameters:\")\n",
    "print(gs.best_params['rmse'])"
   ]
  },
  {
   "cell_type": "code",
   "execution_count": 22,
   "id": "cf252304",
   "metadata": {},
   "outputs": [
    {
     "name": "stdout",
     "output_type": "stream",
     "text": [
      "\n",
      "Training the optimized SVD model with best parameters...\n",
      "Optimized model training completed.\n"
     ]
    }
   ],
   "source": [
    "# Train the optimal model with best parameters\n",
    "best_params = gs.best_params['rmse']\n",
    "optimal_svd = SVD(\n",
    "    n_factors=best_params['n_factors'],\n",
    "    n_epochs=best_params['n_epochs'],\n",
    "    lr_all=best_params['lr_all'],\n",
    "    reg_all=best_params['reg_all']\n",
    ")\n",
    "\n",
    "print(\"\\nTraining the optimized SVD model with best parameters...\")\n",
    "optimal_svd.fit(trainset)\n",
    "print(\"Optimized model training completed.\")"
   ]
  },
  {
   "cell_type": "code",
   "execution_count": 23,
   "id": "1a85ea7b",
   "metadata": {},
   "outputs": [
    {
     "name": "stdout",
     "output_type": "stream",
     "text": [
      "\n",
      "Making predictions on the test set with the optimized model...\n",
      "RMSE: 0.8560\n",
      "Optimal Collaborative Filtering RMSE: 0.8560\n"
     ]
    }
   ],
   "source": [
    "# Predict on the test set using the optimized model\n",
    "print(\"\\nMaking predictions on the test set with the optimized model...\")\n",
    "optimal_predictions = optimal_svd.test(testset)\n",
    "\n",
    "# Compute RMSE for the optimized model\n",
    "optimal_rmse = accuracy.rmse(optimal_predictions)\n",
    "print(f\"Optimal Collaborative Filtering RMSE: {optimal_rmse:.4f}\")"
   ]
  },
  {
   "cell_type": "code",
   "execution_count": 24,
   "id": "3aefe283",
   "metadata": {},
   "outputs": [
    {
     "name": "stdout",
     "output_type": "stream",
     "text": [
      "[('Vertigo (1958)', 5), ('His Girl Friday (1940)', 5), ('Streetcar Named Desire, A (1951)', 5), ('Third Man, The (1949)', 5), ('Ran (1985)', 5), ('On the Waterfront (1954)', 5), ('Spotlight (2015)', 5), ('Dark Knight, The (2008)', 4.997401752280771), ('Spirited Away (Sen to Chihiro no kamikakushi) (2001)', 4.992422128128404), ('Lost in Translation (2003)', 4.986724283169404)]\n"
     ]
    }
   ],
   "source": [
    "recommended_movies = recommend_movies(user_id=1, model = optimal_svd)\n",
    "print(recommended_movies)"
   ]
  },
  {
   "cell_type": "markdown",
   "id": "9d9d0dd4",
   "metadata": {},
   "source": [
    "# Hybrid System"
   ]
  },
  {
   "cell_type": "code",
   "execution_count": 25,
   "id": "b9682388",
   "metadata": {},
   "outputs": [],
   "source": [
    "# Function to predict content-based rating for a given user and movie\n",
    "def predict_cbf_rating(movie_id, cosine_sim_matrix, cbf_df, target_movie_index, user_movies, n_similar=10):\n",
    "    # Get cosine similarity scores for the target movie\n",
    "    sim_scores = list(enumerate(cosine_sim_matrix[target_movie_index]))\n",
    "    sim_scores = sorted(sim_scores, key=lambda x: x[1], reverse=True)\n",
    "    \n",
    "    # Get the indices of the top similar movies\n",
    "    sim_scores = sim_scores[1:n_similar + 1]\n",
    "    \n",
    "    # Calculate the weighted sum of user ratings for similar movies\n",
    "    weighted_sum = 0\n",
    "    sim_sum = 0\n",
    "    for idx, sim_score in sim_scores:\n",
    "        movie_id_similar = cbf_df.iloc[idx]['movieId']\n",
    "        if movie_id_similar in user_movies:\n",
    "            weighted_sum += sim_score * user_movies[movie_id_similar]\n",
    "            sim_sum += sim_score\n",
    "    \n",
    "    # Return the weighted average rating\n",
    "    if sim_sum == 0:\n",
    "        return np.mean(list(user_movies.values()))  # Default to user's average rating if no similar movies\n",
    "    return weighted_sum / sim_sum\n"
   ]
  },
  {
   "cell_type": "code",
   "execution_count": 26,
   "id": "1f99a497",
   "metadata": {},
   "outputs": [],
   "source": [
    "# Hybrid recommendation: Combine CF and CBF\n",
    "def hybrid_recommendation(user_id, movie_id, cf_model, cosine_sim_matrix, cbf_df, cf_df, weight_cf=0.7, weight_cbf=0.3):\n",
    "    # Get the predicted CF rating (Collaborative Filtering)\n",
    "    cf_prediction = cf_model.predict(user_id, movie_id).est\n",
    "    \n",
    "    # Get the predicted CBF rating (Content-Based Filtering)\n",
    "    # First, get the movie index in CBF\n",
    "    target_movie_index = cbf_df[cbf_df['movieId'] == movie_id].index[0]\n",
    "    \n",
    "    # Get the movies the user has rated\n",
    "    user_ratings = cf_df[cf_df['userId'] == user_id].set_index('movieId')['rating'].to_dict()\n",
    "    \n",
    "    # Get the CBF rating prediction\n",
    "    cbf_prediction = predict_cbf_rating(movie_id, cosine_sim_matrix, cbf_df, target_movie_index, user_ratings)\n",
    "    \n",
    "    # Combine the predictions using the weights\n",
    "    final_rating = (weight_cf * cf_prediction) + (weight_cbf * cbf_prediction)\n",
    "    \n",
    "    return final_rating\n"
   ]
  },
  {
   "cell_type": "code",
   "execution_count": 27,
   "id": "acc06402",
   "metadata": {},
   "outputs": [],
   "source": [
    "def recommend_hybrid_movies(user_id, cf_model, cosine_sim_matrix, cbf_df, cf_df, n_recommendations=10, weight_cf=0.7, weight_cbf=0.3):\n",
    "    all_movie_ids = cf_df['movieId'].unique()\n",
    "    user_rated_movies = cf_df[cf_df['userId'] == user_id]['movieId'].tolist()\n",
    "    unrated_movies = [movie_id for movie_id in all_movie_ids if movie_id not in user_rated_movies]\n",
    "    \n",
    "    predictions = []\n",
    "    \n",
    "    for movie_id in unrated_movies:\n",
    "        # Predict the hybrid rating\n",
    "        predicted_rating = hybrid_recommendation(user_id, movie_id, cf_model, cosine_sim_matrix, cbf_df, cf_df, weight_cf, weight_cbf)\n",
    "        predictions.append((movie_id, predicted_rating))\n",
    "    \n",
    "    # Sort the movies by the predicted hybrid rating and get the top N\n",
    "    predictions.sort(key=lambda x: x[1], reverse=True)\n",
    "    top_n_predictions = predictions[:n_recommendations]\n",
    "    \n",
    "    # Return the top N recommended movie titles\n",
    "    return [(cbf_df[cbf_df['movieId'] == movie_id]['title'].values[0], rating) for movie_id, rating in top_n_predictions]\n",
    "\n",
    "\n"
   ]
  },
  {
   "cell_type": "code",
   "execution_count": 28,
   "id": "d87e3f90",
   "metadata": {},
   "outputs": [
    {
     "data": {
      "text/plain": [
       "[('On the Waterfront (1954)', 5.0),\n",
       " ('Dark Knight, The (2008)', 4.9981812265965395),\n",
       " ('Dr. Strangelove or: How I Learned to Stop Worrying and Love the Bomb (1964)',\n",
       "  4.962020681575945),\n",
       " ('Inglourious Basterds (2009)', 4.928702350501034),\n",
       " (\"Dr. Horrible's Sing-Along Blog (2008)\", 4.913298467696041),\n",
       " ('Trainspotting (1996)', 4.895338666135328),\n",
       " ('Manchurian Candidate, The (1962)', 4.890246832984927),\n",
       " ('Thank You for Smoking (2006)', 4.883977159022926),\n",
       " ('3:10 to Yuma (2007)', 4.882402227338744),\n",
       " ('Blade Runner (1982)', 4.881885194042354)]"
      ]
     },
     "execution_count": 28,
     "metadata": {},
     "output_type": "execute_result"
    }
   ],
   "source": [
    "# Example: Get hybrid recommendations for user 1\n",
    "recommendations = recommend_hybrid_movies(user_id=1, cf_model=optimal_svd, cosine_sim_matrix=cosine_sim, cbf_df=cbf, cf_df=cf)\n",
    "recommendations"
   ]
  },
  {
   "cell_type": "markdown",
   "id": "4e069b27",
   "metadata": {},
   "source": [
    "# Validation"
   ]
  },
  {
   "cell_type": "code",
   "execution_count": 29,
   "id": "db3e985a",
   "metadata": {},
   "outputs": [],
   "source": [
    "weight_cf = 0.4\n",
    "weight_cbf = 1 - weight_cf"
   ]
  },
  {
   "cell_type": "code",
   "execution_count": 30,
   "id": "9227e42c",
   "metadata": {},
   "outputs": [],
   "source": [
    "def generate_hybrid_predictions(testset, cf_model, cosine_sim_matrix, cbf_df, cf_df, weight_cf, weight_cbf):\n",
    "    predictions = []\n",
    "    for user_id, movie_id, true_rating in testset:\n",
    "        # Predict the hybrid rating\n",
    "        pred_rating = hybrid_recommendation(user_id, movie_id, cf_model, cosine_sim_matrix, cbf_df, cf_df, weight_cf, weight_cbf)\n",
    "        predictions.append((user_id, movie_id, true_rating, pred_rating))\n",
    "    return predictions\n",
    "# Example: Generating predictions for a test set\n",
    "hybrid_predictions = generate_hybrid_predictions(testset, optimal_svd, cosine_sim, cbf, cf, weight_cf, weight_cbf)\n"
   ]
  },
  {
   "cell_type": "markdown",
   "id": "ffb5688f",
   "metadata": {},
   "source": [
    "# RMSE and MAE"
   ]
  },
  {
   "cell_type": "code",
   "execution_count": 31,
   "id": "c93e726d",
   "metadata": {},
   "outputs": [],
   "source": [
    "\n",
    "# Modified HybridPrediction class to mimic surprise's Prediction object\n",
    "class HybridPrediction:\n",
    "    def __init__(self, uid, iid, r_ui, est):\n",
    "        self.uid = uid  # User ID\n",
    "        self.iid = iid  # Movie ID\n",
    "        self.r_ui = r_ui  # True rating\n",
    "        self.est = est  # Predicted rating\n",
    "        self.details = {}  # Can be empty, but required by surprise's accuracy functions\n",
    "\n",
    "    # Making the object iterable like Surprise's Prediction class\n",
    "    def __iter__(self):\n",
    "        return iter((self.uid, self.iid, self.r_ui, self.est, self.details))\n",
    "    \n",
    "def calculate_rmse_mae(hybrid_predictions):\n",
    "    # Create list of HybridPrediction objects\n",
    "    surprise_predictions = [HybridPrediction(uid, iid, r_ui, est) for (uid, iid, r_ui, est) in hybrid_predictions]\n",
    "\n",
    "    # RMSE\n",
    "    rmse = accuracy.rmse(surprise_predictions, verbose=False)\n",
    "\n",
    "    # MAE\n",
    "    mae = accuracy.mae(surprise_predictions, verbose=False)\n",
    "\n",
    "    return rmse, mae"
   ]
  },
  {
   "cell_type": "code",
   "execution_count": 32,
   "id": "a4448e42",
   "metadata": {},
   "outputs": [],
   "source": [
    "rmse, mae = calculate_rmse_mae(hybrid_predictions)\n"
   ]
  },
  {
   "cell_type": "markdown",
   "id": "59792baf",
   "metadata": {},
   "source": [
    "# F1-Score, Precision, Recall"
   ]
  },
  {
   "cell_type": "code",
   "execution_count": 33,
   "id": "29aacfaf",
   "metadata": {},
   "outputs": [],
   "source": [
    "# Step 1: Prepare y_true and y_pred for binary classification\n",
    "threshold = 4.5  # Set threshold for relevance\n",
    "\n",
    "# Generate binary labels based on true ratings and predicted ratings\n",
    "\n",
    "# Step 2: Calculate Precision, Recall, and F1-Score\n",
    "def calculate_precision_recall_f1(threshold, predictions): #\n",
    "    y_true = [int(true_rating >= threshold) for (_, _, true_rating, _) in predictions]  # Actual ratings\n",
    "    y_pred = [int(pred_rating >= threshold) for (_, _, _, pred_rating) in predictions]  # Predicted ratings\n",
    "    precision = precision_score(y_true, y_pred)\n",
    "    recall = recall_score(y_true, y_pred)\n",
    "    f1 = f1_score(y_true, y_pred)\n",
    "    \n",
    "    return precision, recall, f1\n",
    "    \n",
    "precision, recall, f1 = calculate_precision_recall_f1(threshold, hybrid_predictions)"
   ]
  },
  {
   "cell_type": "code",
   "execution_count": 34,
   "id": "11a10ea0",
   "metadata": {},
   "outputs": [
    {
     "name": "stdout",
     "output_type": "stream",
     "text": [
      "RMSE: 0.8853783834734547\n",
      "MAE: 0.6771916982530164\n",
      "Precision: 0.6894803548795945\n",
      "Recall: 0.12540341171046565\n",
      "F1-Score: 0.21220986931929003\n"
     ]
    }
   ],
   "source": [
    "print(f\"RMSE: {rmse}\")\n",
    "print(f\"MAE: {mae}\")\n",
    "print(f\"Precision: {precision}\")\n",
    "print(f\"Recall: {recall}\")\n",
    "print(f\"F1-Score: {f1}\")"
   ]
  }
 ],
 "metadata": {
  "jupytext": {
   "cell_metadata_filter": "-all",
   "main_language": "python",
   "notebook_metadata_filter": "-all"
  },
  "kernelspec": {
   "display_name": ".venv",
   "language": "python",
   "name": "python3"
  },
  "language_info": {
   "codemirror_mode": {
    "name": "ipython",
    "version": 3
   },
   "file_extension": ".py",
   "mimetype": "text/x-python",
   "name": "python",
   "nbconvert_exporter": "python",
   "pygments_lexer": "ipython3",
   "version": "3.11.9"
  }
 },
 "nbformat": 4,
 "nbformat_minor": 5
}
